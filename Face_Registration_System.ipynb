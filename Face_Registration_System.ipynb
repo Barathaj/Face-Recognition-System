{
 "cells": [
  {
   "cell_type": "markdown",
   "id": "13a74f80",
   "metadata": {},
   "source": [
    "## Step 1: Install and Import Required Libraries"
   ]
  },
  {
   "cell_type": "code",
   "execution_count": null,
   "id": "26d848c8",
   "metadata": {},
   "outputs": [],
   "source": [
    "\n",
    "!pip install opencv-python face_recognition firebase-admin\n",
    "import cv2\n",
    "import face_recognition\n",
    "import pickle\n",
    "import os\n",
    "import datetime\n",
    "import firebase_admin\n",
    "from firebase_admin import credentials, db, storage\n"
   ]
  },
  {
   "cell_type": "markdown",
   "id": "a1934b3f",
   "metadata": {},
   "source": [
    "## Step 2: Initialize Firebase"
   ]
  },
  {
   "cell_type": "code",
   "execution_count": null,
   "id": "a1c56af2",
   "metadata": {},
   "outputs": [],
   "source": [
    "\n",
    "def initialize_firebase():\n",
    "    if not firebase_admin._apps:\n",
    "        cred = credentials.Certificate(\"E:\\cv\\cv_lib\\service2.json\")\n",
    "        firebase_admin.initialize_app(cred, {\n",
    "            'databaseURL': \"https://bigvision-22c68-default-rtdb.firebaseio.com/\",\n",
    "            'storageBucket': \"bigvision-22c68.firebasestorage.app\"\n",
    "        })\n",
    "    return db.reference('Students')\n"
   ]
  },
  {
   "cell_type": "markdown",
   "id": "805856f7",
   "metadata": {},
   "source": [
    "## Step 3: Setup Directories for Storing Images"
   ]
  },
  {
   "cell_type": "code",
   "execution_count": null,
   "id": "e625d3f2",
   "metadata": {},
   "outputs": [],
   "source": [
    "\n",
    "def setup_directories():\n",
    "    if not os.path.exists('E:\\cv\\cv_lib\\images'):\n",
    "        os.makedirs('E:\\cv\\cv_lib\\images')\n",
    "    print(\"Directory 'E:\\\\cv\\\\cv_lib\\\\images' is ready\")\n"
   ]
  },
  {
   "cell_type": "markdown",
   "id": "f1eabe0f",
   "metadata": {},
   "source": [
    "## Step 4: Capture Face from Webcam"
   ]
  },
  {
   "cell_type": "code",
   "execution_count": null,
   "id": "b5d34bcd",
   "metadata": {},
   "outputs": [],
   "source": [
    "\n",
    "x1, y1 = 363, 132\n",
    "x2, y2 = 1002, 568\n",
    "frame_width = x2 - x1\n",
    "frame_height = y2 - y1\n",
    "\n",
    "def capture_face():\n",
    "    bg_img = cv2.imread(\"E:\\cv\\cv_lib\\resources\\register_bg.png\")\n",
    "    cap = cv2.VideoCapture(1)\n",
    "    if not cap.isOpened():\n",
    "        print(\"Error: Could not open webcam\")\n",
    "        return None\n",
    "    print(\"Please look at the camera... Press 'c' to capture or 'q' to quit\")\n",
    "    while True:\n",
    "        ret, frame = cap.read()\n",
    "        if not ret:\n",
    "            print(\"Failed to grab frame\")\n",
    "            break\n",
    "        resized_frame = cv2.resize(frame, (frame_width, frame_height))\n",
    "        output_img = bg_img.copy()\n",
    "        output_img[y1:y2, x1:x2] = resized_frame\n",
    "        face_locations = face_recognition.face_locations(frame)\n",
    "        for (top, right, bottom, left) in face_locations:\n",
    "            cv2.rectangle(frame, (left, top), (right, bottom), (0, 255, 0), 2)\n",
    "        cv2.imshow('Face Registration System', output_img)\n",
    "        key = cv2.waitKey(1)\n",
    "        if key == ord('c'):\n",
    "            if len(face_locations) == 0:\n",
    "                print(\"No face detected. Try again.\")\n",
    "                continue\n",
    "            if len(face_locations) > 1:\n",
    "                print(\"Multiple faces detected. Only one person allowed.\")\n",
    "                continue\n",
    "            print(\"Face captured successfully!\")\n",
    "            cap.release()\n",
    "            cv2.destroyAllWindows()\n",
    "            return frame\n",
    "        elif key == ord('q'):\n",
    "            print(\"Capture cancelled\")\n",
    "            cap.release()\n",
    "            cv2.destroyAllWindows()\n",
    "            return None\n"
   ]
  },
  {
   "cell_type": "markdown",
   "id": "3fa198ac",
   "metadata": {},
   "source": [
    "## Step 5: Enter Student Details"
   ]
  },
  {
   "cell_type": "code",
   "execution_count": null,
   "id": "864a7643",
   "metadata": {},
   "outputs": [],
   "source": [
    "\n",
    "def get_student_details():\n",
    "    student_id = input(\"Enter student ID: \")\n",
    "    name = input(\"Enter student name: \")\n",
    "    major = input(\"Enter student major: \")\n",
    "    year = int(input(\"Enter current year of study: \"))\n",
    "    return {\n",
    "        \"id\": student_id,\n",
    "        \"name\": name,\n",
    "        \"major\": major,\n",
    "        \"year\": year,\n",
    "        \"starting_year\": datetime.datetime.now().year - year + 1,\n",
    "        \"total_attendance\": 0,\n",
    "        \"standing\": \"G\",\n",
    "        \"last_attendance_time\": datetime.datetime.now().strftime(\"%Y-%m-%d %H:%M:%S\")\n",
    "    }\n"
   ]
  },
  {
   "cell_type": "markdown",
   "id": "e934465b",
   "metadata": {},
   "source": [
    "## Step 6: Save Captured Face Image Locally"
   ]
  },
  {
   "cell_type": "code",
   "execution_count": null,
   "id": "2f59805f",
   "metadata": {},
   "outputs": [],
   "source": [
    "\n",
    "def save_image(frame, student_id):\n",
    "    if frame is None:\n",
    "        return False\n",
    "    filename = f\"E:\\cv\\cv_lib\\images\\{student_id}.jpeg\"\n",
    "    cv2.imwrite(filename, frame)\n",
    "    print(f\"Image saved as {filename}\")\n",
    "    return True\n"
   ]
  },
  {
   "cell_type": "markdown",
   "id": "089928c0",
   "metadata": {},
   "source": [
    "## Step 7: Upload Image to Firebase Storage"
   ]
  },
  {
   "cell_type": "code",
   "execution_count": null,
   "id": "332ce836",
   "metadata": {},
   "outputs": [],
   "source": [
    "\n",
    "def upload_to_storage(student_id):\n",
    "    local_path = f\"E:\\\\cv\\\\cv_lib\\\\images\\\\{student_id}.jpeg\"\n",
    "    firebase_path = f\"images/{student_id}.jpeg\"\n",
    "    if not os.path.exists(local_path):\n",
    "        print(f\"Error: File {local_path} does not exist\")\n",
    "        return False\n",
    "    bucket = storage.bucket()\n",
    "    blob = bucket.blob(firebase_path)\n",
    "    blob.upload_from_filename(local_path)\n",
    "    print(f\"Uploaded {local_path} to Firebase\")\n",
    "    return True\n"
   ]
  },
  {
   "cell_type": "markdown",
   "id": "163c65bb",
   "metadata": {},
   "source": [
    "## Step 8: Store Student Data in Firebase Database"
   ]
  },
  {
   "cell_type": "code",
   "execution_count": null,
   "id": "b050b61b",
   "metadata": {},
   "outputs": [],
   "source": [
    "\n",
    "def store_in_database(ref, student_data):\n",
    "    student_id = student_data[\"id\"]\n",
    "    data_to_store = student_data.copy()\n",
    "    data_to_store.pop(\"id\")\n",
    "    ref.child(student_id).set(data_to_store)\n",
    "    print(f\"Student data for {student_id} stored in Firebase\")\n",
    "    return True\n"
   ]
  },
  {
   "cell_type": "markdown",
   "id": "51204cd7",
   "metadata": {},
   "source": [
    "## Step 9: Update Face Encodings"
   ]
  },
  {
   "cell_type": "code",
   "execution_count": null,
   "id": "9d2109db",
   "metadata": {},
   "outputs": [],
   "source": [
    "\n",
    "def update_encodings():\n",
    "    print(\"Updating encodings...\")\n",
    "    folderPath = 'E:\\cv\\cv_lib\\images'\n",
    "    pathList = os.listdir(folderPath)\n",
    "    imgList, studentIds = [], []\n",
    "    for path in pathList:\n",
    "        img = cv2.imread(os.path.join(folderPath, path))\n",
    "        if img is None:\n",
    "            continue\n",
    "        imgList.append(img)\n",
    "        studentIds.append(os.path.splitext(path)[0])\n",
    "    encodeListKnown = []\n",
    "    for img in imgList:\n",
    "        img = cv2.cvtColor(img, cv2.COLOR_BGR2RGB)\n",
    "        try:\n",
    "            encode = face_recognition.face_encodings(img)[0]\n",
    "            encodeListKnown.append(encode)\n",
    "        except IndexError:\n",
    "            print(\"No face found in image. Skipping.\")\n",
    "            continue\n",
    "    encodeListKnownWithIds = [encodeListKnown, studentIds]\n",
    "    with open(\"E:\\cv\\cv_lib\\EncodeFile.p\", 'wb') as file:\n",
    "        pickle.dump(encodeListKnownWithIds, file)\n",
    "    print(\"Encodings saved successfully\")\n",
    "    return True\n"
   ]
  },
  {
   "cell_type": "markdown",
   "id": "9a3bf713",
   "metadata": {},
   "source": [
    "## Step 10: Register a New Student"
   ]
  },
  {
   "cell_type": "code",
   "execution_count": null,
   "id": "e5ba27aa",
   "metadata": {},
   "outputs": [],
   "source": [
    "\n",
    "setup_directories()\n",
    "ref = initialize_firebase()\n",
    "\n",
    "while True:\n",
    "    print(\"\\nStarting registration...\")\n",
    "    frame = capture_face()\n",
    "    if frame is None:\n",
    "        if input(\"Try again? (y/n): \").lower() != 'y':\n",
    "            break\n",
    "        continue\n",
    "    student_data = get_student_details()\n",
    "    if not save_image(frame, student_data[\"id\"]):\n",
    "        continue\n",
    "    if not upload_to_storage(student_data[\"id\"]):\n",
    "        continue\n",
    "    if not store_in_database(ref, student_data):\n",
    "        continue\n",
    "    if not update_encodings():\n",
    "        continue\n",
    "    print(f\"Student {student_data['name']} (ID: {student_data['id']}) registered successfully!\")\n",
    "    if input(\"Register another student? (y/n): \").lower() != 'y':\n",
    "        break\n",
    "print(\"Registration process completed.\")\n"
   ]
  }
 ],
 "metadata": {},
 "nbformat": 4,
 "nbformat_minor": 5
}
